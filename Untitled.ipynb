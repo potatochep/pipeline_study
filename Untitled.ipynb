{
 "cells": [
  {
   "cell_type": "code",
   "execution_count": 1,
   "id": "800191e6",
   "metadata": {},
   "outputs": [
    {
     "name": "stdout",
     "output_type": "stream",
     "text": [
      "work dir =  /Users/kimhyojin/Desktop/pipeline\n",
      "seperator =  /\n"
     ]
    }
   ],
   "source": [
    "from sshtunnel import SSHTunnelForwarder\n",
    "import configparser\n",
    "from pymongo import mongo_client\n",
    "import os\n",
    "import time\n",
    "\n",
    "# 파일 위치 설정\n",
    "print('work dir = ', os.getcwd())\n",
    "print('seperator = ', os.sep)\n",
    "\n",
    "#ssh 접속 및 mysql 접속 정보 읽어오기\n",
    "parser = configparser.ConfigParser()\n",
    "parser.read('/Users/kimhyojin/Desktop/pipeline/config/pipeline.conf') \n",
    "\n",
    "#ssh 접속 정보\n",
    "server_ip = parser.get('ssh_key_path', 'server_ip')\n",
    "key = parser.get('ssh_key_path', 'key')\n",
    "\n",
    "# 몽고 db 접속 정보\n",
    "hostname = parser.get('mongo_config', 'hostname')\n",
    "port = parser.get('mongo_config', 'port')\n",
    "username = parser.get('mongo_config', 'username')\n",
    "password = parser.get('mongo_config', 'password')\n",
    "\n",
    "# 시작 시간\n",
    "start_time = time.time()\n",
    "\n",
    "#ssh 접속을 통해 aws ec2 접속\n",
    "server = SSHTunnelForwarder(\n",
    "    (server_ip, 22),\n",
    "    ssh_username='ec2-user',\n",
    "    ssh_pkey=key,\n",
    "    remote_bind_address=('127.0.0.1', 27017),\n",
    "    local_bind_address=('127.0.0.1',27017)\n",
    ")\n",
    "server.start()\n",
    "\n",
    "# 몽고db 연결하기\n",
    "conn = mongo_client.MongoClient(f\"mongodb://{username}:{password}@{hostname}:{port}\")"
   ]
  },
  {
   "cell_type": "code",
   "execution_count": 3,
   "id": "70696fbe",
   "metadata": {},
   "outputs": [],
   "source": [
    "db = conn.it"
   ]
  },
  {
   "cell_type": "code",
   "execution_count": 4,
   "id": "e4d8f0c6",
   "metadata": {},
   "outputs": [
    {
     "name": "stdout",
     "output_type": "stream",
     "text": [
      "Database(MongoClient(host=['127.0.0.1:27017'], document_class=dict, tz_aware=False, connect=True), 'it')\n"
     ]
    }
   ],
   "source": [
    "print(db)"
   ]
  },
  {
   "cell_type": "code",
   "execution_count": 5,
   "id": "c11a5218",
   "metadata": {},
   "outputs": [
    {
     "name": "stdout",
     "output_type": "stream",
     "text": [
      "Collection(Database(MongoClient(host=['127.0.0.1:27017'], document_class=dict, tz_aware=False, connect=True), 'it'), 'database')\n"
     ]
    }
   ],
   "source": [
    "it = db.database\n",
    "print(it)"
   ]
  },
  {
   "cell_type": "code",
   "execution_count": 6,
   "id": "8357312c",
   "metadata": {},
   "outputs": [
    {
     "data": {
      "text/plain": [
       "<pymongo.results.InsertOneResult at 0x7f8818e51850>"
      ]
     },
     "execution_count": 6,
     "metadata": {},
     "output_type": "execute_result"
    }
   ],
   "source": [
    "post = {\"name\":\"mongo_db\", \"text\":\"test\"}\n",
    "it.insert_one(post)"
   ]
  },
  {
   "cell_type": "code",
   "execution_count": 7,
   "id": "0357319b",
   "metadata": {},
   "outputs": [
    {
     "data": {
      "text/plain": [
       "<pymongo.results.InsertOneResult at 0x7f8819482400>"
      ]
     },
     "execution_count": 7,
     "metadata": {},
     "output_type": "execute_result"
    }
   ],
   "source": [
    "post = {\"name\":\"mysql\",\"text\":\"test2\", \"tags\":[\"db\", \"many\"]}\n",
    "it.insert_one(post)"
   ]
  },
  {
   "cell_type": "code",
   "execution_count": 8,
   "id": "80c6fce4",
   "metadata": {},
   "outputs": [
    {
     "data": {
      "text/plain": [
       "ObjectId('628c3a07b9aa8e838b1c3d5b')"
      ]
     },
     "execution_count": 8,
     "metadata": {},
     "output_type": "execute_result"
    }
   ],
   "source": [
    "post = {\"name\":\"mariadb\",\"text\":\"test3\", \"tags\":[\"db\", \"many\"]}\n",
    "it.insert_one(post).inserted_id"
   ]
  },
  {
   "cell_type": "code",
   "execution_count": 14,
   "id": "357b930e",
   "metadata": {},
   "outputs": [
    {
     "data": {
      "text/plain": [
       "3"
      ]
     },
     "execution_count": 14,
     "metadata": {},
     "output_type": "execute_result"
    }
   ],
   "source": [
    "# count() 메소드는 현재 pymongo 버전에서는 사용하지 않음\n",
    "# collection.estimated_document_count()를 사용해서 콜렉션 내의 도큐먼트 수를 확인 가능\n",
    "it.estimated_document_count()"
   ]
  },
  {
   "cell_type": "code",
   "execution_count": 39,
   "id": "37171694",
   "metadata": {},
   "outputs": [
    {
     "data": {
      "text/plain": [
       "<pymongo.results.InsertManyResult at 0x7f88194b4250>"
      ]
     },
     "execution_count": 39,
     "metadata": {},
     "output_type": "execute_result"
    }
   ],
   "source": [
    "it.insert_many(\n",
    "    [\n",
    "        {\"number\":i} for i in range(10)\n",
    "    ]\n",
    ")"
   ]
  },
  {
   "cell_type": "code",
   "execution_count": 17,
   "id": "7fd86741",
   "metadata": {},
   "outputs": [
    {
     "data": {
      "text/plain": [
       "13"
      ]
     },
     "execution_count": 17,
     "metadata": {},
     "output_type": "execute_result"
    }
   ],
   "source": [
    "it.estimated_document_count()"
   ]
  },
  {
   "cell_type": "code",
   "execution_count": 18,
   "id": "e44f904a",
   "metadata": {},
   "outputs": [
    {
     "data": {
      "text/plain": [
       "{'_id': ObjectId('628c380cb9aa8e838b1c3d59'),\n",
       " 'name': 'mongo_db',\n",
       " 'text': 'test'}"
      ]
     },
     "execution_count": 18,
     "metadata": {},
     "output_type": "execute_result"
    }
   ],
   "source": [
    "it.find_one()"
   ]
  },
  {
   "cell_type": "code",
   "execution_count": 48,
   "id": "2515a975",
   "metadata": {},
   "outputs": [],
   "source": [
    "doc = it.find()"
   ]
  },
  {
   "cell_type": "code",
   "execution_count": 49,
   "id": "7bf39caa",
   "metadata": {},
   "outputs": [],
   "source": [
    "docs = it.find()"
   ]
  },
  {
   "cell_type": "code",
   "execution_count": 50,
   "id": "58dd737a",
   "metadata": {},
   "outputs": [
    {
     "name": "stdout",
     "output_type": "stream",
     "text": [
      "{'_id': ObjectId('628c380cb9aa8e838b1c3d59'), 'name': 'mongo_db', 'text': 'test'}\n",
      "{'_id': ObjectId('628c3868b9aa8e838b1c3d5a'), 'name': 'mysql', 'text': 'test2', 'tags': ['db', 'many']}\n",
      "{'_id': ObjectId('628c3a07b9aa8e838b1c3d5b'), 'name': 'mariadb', 'text': 'test3', 'tags': ['db', 'many']}\n",
      "{'_id': ObjectId('628c3e5cb9aa8e838b1c3d66'), 'number': 0}\n",
      "{'_id': ObjectId('628c3b5ab9aa8e838b1c3d5c'), 'number': 1}\n",
      "{'_id': ObjectId('628c3b5ab9aa8e838b1c3d5d'), 'number': 1}\n",
      "{'_id': ObjectId('628c3b5ab9aa8e838b1c3d5e'), 'number': 1}\n",
      "{'_id': ObjectId('628c3b5ab9aa8e838b1c3d5f'), 'number': 1}\n",
      "{'_id': ObjectId('628c3b5ab9aa8e838b1c3d60'), 'number': 1}\n",
      "{'_id': ObjectId('628c3b5ab9aa8e838b1c3d61'), 'number': 1}\n",
      "{'_id': ObjectId('628c3b5ab9aa8e838b1c3d62'), 'number': 1}\n",
      "{'_id': ObjectId('628c3b5ab9aa8e838b1c3d63'), 'number': 1}\n",
      "{'_id': ObjectId('628c3b5ab9aa8e838b1c3d64'), 'number': 1}\n",
      "{'_id': ObjectId('628c3b5ab9aa8e838b1c3d65'), 'number': 1}\n",
      "{'_id': ObjectId('628c3e5cb9aa8e838b1c3d67'), 'number': 1}\n",
      "{'_id': ObjectId('628c3e5cb9aa8e838b1c3d68'), 'number': 2}\n",
      "{'_id': ObjectId('628c3e5cb9aa8e838b1c3d69'), 'number': 3}\n",
      "{'_id': ObjectId('628c3e5cb9aa8e838b1c3d6a'), 'number': 4}\n",
      "{'_id': ObjectId('628c3e5cb9aa8e838b1c3d6b'), 'number': 5}\n",
      "{'_id': ObjectId('628c3e5cb9aa8e838b1c3d6c'), 'number': 6}\n",
      "{'_id': ObjectId('628c3e5cb9aa8e838b1c3d6d'), 'number': 7}\n",
      "{'_id': ObjectId('628c3e5cb9aa8e838b1c3d6e'), 'number': 8}\n",
      "{'_id': ObjectId('628c3e5cb9aa8e838b1c3d6f'), 'number': 9}\n"
     ]
    }
   ],
   "source": [
    "for doc in docs.sort(\"number\"):\n",
    "    print(doc)"
   ]
  },
  {
   "cell_type": "code",
   "execution_count": 38,
   "id": "7918c9dd",
   "metadata": {},
   "outputs": [
    {
     "data": {
      "text/plain": [
       "13"
      ]
     },
     "execution_count": 38,
     "metadata": {},
     "output_type": "execute_result"
    }
   ],
   "source": [
    "it.estimated_document_count({\"number\":1})"
   ]
  },
  {
   "cell_type": "code",
   "execution_count": 52,
   "id": "808e5f3c",
   "metadata": {},
   "outputs": [
    {
     "data": {
      "text/plain": [
       "<pymongo.results.UpdateResult at 0x7f8808a4d8e0>"
      ]
     },
     "execution_count": 52,
     "metadata": {},
     "output_type": "execute_result"
    }
   ],
   "source": [
    "it.update_one(\n",
    "    {\"name\":\"mysql\"},\n",
    "    {\"$set\":\n",
    "        {\n",
    "            \"name\":\"oracle\"\n",
    "        }\n",
    "    }\n",
    ")"
   ]
  },
  {
   "cell_type": "code",
   "execution_count": 54,
   "id": "44cdbdba",
   "metadata": {},
   "outputs": [
    {
     "data": {
      "text/plain": [
       "<pymongo.results.UpdateResult at 0x7f8818e28640>"
      ]
     },
     "execution_count": 54,
     "metadata": {},
     "output_type": "execute_result"
    }
   ],
   "source": [
    "it.update_many(\n",
    "    {\"number\":100},\n",
    "    {\"$set\":\n",
    "        {\n",
    "            \"text\":\"updated_document\"\n",
    "        }\n",
    "    }\n",
    ")"
   ]
  },
  {
   "cell_type": "code",
   "execution_count": 83,
   "id": "3c8573ed",
   "metadata": {},
   "outputs": [
    {
     "name": "stdout",
     "output_type": "stream",
     "text": [
      "{'_id': ObjectId('628c380cb9aa8e838b1c3d59'), 'name': 'mongo_db', 'text': 'test'}\n",
      "{'_id': ObjectId('628c3868b9aa8e838b1c3d5a'), 'name': 'oracle', 'text': 'test2', 'tags': ['db', 'many']}\n",
      "{'_id': ObjectId('628c3a07b9aa8e838b1c3d5b'), 'name': 'mariadb', 'text': 'test3', 'tags': ['db', 'many']}\n"
     ]
    }
   ],
   "source": [
    "docs = it.find()\n",
    "for doc in docs:\n",
    "    print(doc)"
   ]
  },
  {
   "cell_type": "code",
   "execution_count": 56,
   "id": "7e1a6174",
   "metadata": {},
   "outputs": [
    {
     "data": {
      "text/plain": [
       "<pymongo.results.DeleteResult at 0x7f8818e51760>"
      ]
     },
     "execution_count": 56,
     "metadata": {},
     "output_type": "execute_result"
    }
   ],
   "source": [
    "it.delete_many({\"number\":100})"
   ]
  },
  {
   "cell_type": "code",
   "execution_count": 82,
   "id": "43098822",
   "metadata": {},
   "outputs": [
    {
     "data": {
      "text/plain": [
       "<pymongo.results.DeleteResult at 0x7f87c805ef70>"
      ]
     },
     "execution_count": 82,
     "metadata": {},
     "output_type": "execute_result"
    }
   ],
   "source": [
    "it.delete_many({\"number\":{\"$gte\":0}})"
   ]
  },
  {
   "cell_type": "code",
   "execution_count": 71,
   "id": "9d1df003",
   "metadata": {},
   "outputs": [
    {
     "data": {
      "text/plain": [
       "<pymongo.results.InsertManyResult at 0x7f87f0063f70>"
      ]
     },
     "execution_count": 71,
     "metadata": {},
     "output_type": "execute_result"
    }
   ],
   "source": [
    "it.insert_many(\n",
    "    [\n",
    "        {\"number\":i} for i in range(5,100)\n",
    "        \n",
    "    ]\n",
    ")"
   ]
  },
  {
   "cell_type": "code",
   "execution_count": 80,
   "id": "bcacedc4",
   "metadata": {},
   "outputs": [],
   "source": [
    "docs = it.find(\n",
    "    {\"$or\":[\n",
    "        {\"name\":\"mariadb\"},\n",
    "        {\"number\":{\"$gt\":50}\n",
    "        }\n",
    "    ]\n",
    "    }\n",
    ")`"
   ]
  },
  {
   "cell_type": "code",
   "execution_count": 81,
   "id": "e86f3dca",
   "metadata": {},
   "outputs": [
    {
     "name": "stdout",
     "output_type": "stream",
     "text": [
      "{'_id': ObjectId('628c3a07b9aa8e838b1c3d5b'), 'name': 'mariadb', 'text': 'test3', 'tags': ['db', 'many']}\n",
      "{'_id': ObjectId('628c416bb9aa8e838b1c3e5c'), 'number': 51}\n",
      "{'_id': ObjectId('628c416bb9aa8e838b1c3e5d'), 'number': 52}\n",
      "{'_id': ObjectId('628c416bb9aa8e838b1c3e5e'), 'number': 53}\n",
      "{'_id': ObjectId('628c416bb9aa8e838b1c3e5f'), 'number': 54}\n",
      "{'_id': ObjectId('628c416bb9aa8e838b1c3e60'), 'number': 55}\n",
      "{'_id': ObjectId('628c416bb9aa8e838b1c3e61'), 'number': 56}\n",
      "{'_id': ObjectId('628c416bb9aa8e838b1c3e62'), 'number': 57}\n",
      "{'_id': ObjectId('628c416bb9aa8e838b1c3e63'), 'number': 58}\n",
      "{'_id': ObjectId('628c416bb9aa8e838b1c3e64'), 'number': 59}\n",
      "{'_id': ObjectId('628c416bb9aa8e838b1c3e65'), 'number': 60}\n",
      "{'_id': ObjectId('628c416bb9aa8e838b1c3e66'), 'number': 61}\n",
      "{'_id': ObjectId('628c416bb9aa8e838b1c3e67'), 'number': 62}\n",
      "{'_id': ObjectId('628c416bb9aa8e838b1c3e68'), 'number': 63}\n",
      "{'_id': ObjectId('628c416bb9aa8e838b1c3e69'), 'number': 64}\n",
      "{'_id': ObjectId('628c416bb9aa8e838b1c3e6a'), 'number': 65}\n",
      "{'_id': ObjectId('628c416bb9aa8e838b1c3e6b'), 'number': 66}\n",
      "{'_id': ObjectId('628c416bb9aa8e838b1c3e6c'), 'number': 67}\n",
      "{'_id': ObjectId('628c416bb9aa8e838b1c3e6d'), 'number': 68}\n",
      "{'_id': ObjectId('628c416bb9aa8e838b1c3e6e'), 'number': 69}\n",
      "{'_id': ObjectId('628c416bb9aa8e838b1c3e6f'), 'number': 70}\n",
      "{'_id': ObjectId('628c416bb9aa8e838b1c3e70'), 'number': 71}\n",
      "{'_id': ObjectId('628c416bb9aa8e838b1c3e71'), 'number': 72}\n",
      "{'_id': ObjectId('628c416bb9aa8e838b1c3e72'), 'number': 73}\n",
      "{'_id': ObjectId('628c416bb9aa8e838b1c3e73'), 'number': 74}\n",
      "{'_id': ObjectId('628c416bb9aa8e838b1c3e74'), 'number': 75}\n",
      "{'_id': ObjectId('628c416bb9aa8e838b1c3e75'), 'number': 76}\n",
      "{'_id': ObjectId('628c416bb9aa8e838b1c3e76'), 'number': 77}\n",
      "{'_id': ObjectId('628c416bb9aa8e838b1c3e77'), 'number': 78}\n",
      "{'_id': ObjectId('628c416bb9aa8e838b1c3e78'), 'number': 79}\n",
      "{'_id': ObjectId('628c416bb9aa8e838b1c3e79'), 'number': 80}\n",
      "{'_id': ObjectId('628c416bb9aa8e838b1c3e7a'), 'number': 81}\n",
      "{'_id': ObjectId('628c416bb9aa8e838b1c3e7b'), 'number': 82}\n",
      "{'_id': ObjectId('628c416bb9aa8e838b1c3e7c'), 'number': 83}\n",
      "{'_id': ObjectId('628c416bb9aa8e838b1c3e7d'), 'number': 84}\n",
      "{'_id': ObjectId('628c416bb9aa8e838b1c3e7e'), 'number': 85}\n",
      "{'_id': ObjectId('628c416bb9aa8e838b1c3e7f'), 'number': 86}\n",
      "{'_id': ObjectId('628c416bb9aa8e838b1c3e80'), 'number': 87}\n",
      "{'_id': ObjectId('628c416bb9aa8e838b1c3e81'), 'number': 88}\n",
      "{'_id': ObjectId('628c416bb9aa8e838b1c3e82'), 'number': 89}\n",
      "{'_id': ObjectId('628c416bb9aa8e838b1c3e83'), 'number': 90}\n",
      "{'_id': ObjectId('628c416bb9aa8e838b1c3e84'), 'number': 91}\n",
      "{'_id': ObjectId('628c416bb9aa8e838b1c3e85'), 'number': 92}\n",
      "{'_id': ObjectId('628c416bb9aa8e838b1c3e86'), 'number': 93}\n",
      "{'_id': ObjectId('628c416bb9aa8e838b1c3e87'), 'number': 94}\n",
      "{'_id': ObjectId('628c416bb9aa8e838b1c3e88'), 'number': 95}\n",
      "{'_id': ObjectId('628c416bb9aa8e838b1c3e89'), 'number': 96}\n",
      "{'_id': ObjectId('628c416bb9aa8e838b1c3e8a'), 'number': 97}\n",
      "{'_id': ObjectId('628c416bb9aa8e838b1c3e8b'), 'number': 98}\n",
      "{'_id': ObjectId('628c416bb9aa8e838b1c3e8c'), 'number': 99}\n"
     ]
    }
   ],
   "source": [
    "for doc in docs:\n",
    "    print(doc)"
   ]
  },
  {
   "cell_type": "code",
   "execution_count": null,
   "id": "14510d86",
   "metadata": {},
   "outputs": [],
   "source": []
  }
 ],
 "metadata": {
  "kernelspec": {
   "display_name": "Python 3 (ipykernel)",
   "language": "python",
   "name": "python3"
  },
  "language_info": {
   "codemirror_mode": {
    "name": "ipython",
    "version": 3
   },
   "file_extension": ".py",
   "mimetype": "text/x-python",
   "name": "python",
   "nbconvert_exporter": "python",
   "pygments_lexer": "ipython3",
   "version": "3.9.7"
  }
 },
 "nbformat": 4,
 "nbformat_minor": 5
}
